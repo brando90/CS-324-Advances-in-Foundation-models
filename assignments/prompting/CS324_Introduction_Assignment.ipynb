{
  "nbformat": 4,
  "nbformat_minor": 0,
  "metadata": {
    "colab": {
      "provenance": []
    },
    "kernelspec": {
      "name": "python3",
      "display_name": "Python 3"
    },
    "language_info": {
      "name": "python"
    },
    "accelerator": "GPU",
    "gpuClass": "standard"
  },
  "cells": [
    {
      "cell_type": "markdown",
      "source": [
        "## CS324 Introduction Assignment\n",
        "\n",
        "### Overview\n",
        "\n",
        "In this assignment, you will gain familiarity with prompting a wide range of foundation models. Specifically, you’ll work with large language models (LLMs) such as [BLOOM](https://huggingface.co/bigscience/bloom) and [BLOOMZ](https://huggingface.co/bigscience/bloomz) (BigScience). Language model prompting is the process of providing a model with an input text, and then having the model generate a response as output. For example, one could provide a language model with the prompt \"The sky is\" and the model might generate the response \"blue\". \n",
        "\n",
        "Prompts can be used to complete a breadth of tasks such as summarization (e.g., “Summarize the following paragraph: \\<paragraph written out here\\> Summary:”) or extraction (e.g., “Extract the phone number from the user bio: \\<bio written out here\\>.”)\n",
        "\n",
        "\n",
        "The assignment is divided into three parts:\n",
        "\n",
        "\n",
        "1. **Task selection**: In the first part of the assignment, you will select a task and evaluation dataset, which you will use in the remainder of the assignment.\n",
        "\n",
        "2. **Prompt development**: In the second part of the assignment, you will explore how to develop effective prompts for LLMs. As part of this process, you may encounter both the joys and pains of prompting.  \n",
        "  * On one hand, the right prompt and model can magically solve a seemingly complicated and unrelated task (w.r.t. the model's *training objective*.)  \n",
        "  * On the other, prompting can be a brittle technique, and it may require time, effort, and creativity to develop a sufficient prompt.\n",
        "\n",
        "3. **Model comparisons**: In the final part of the assignment, you will compare the performance (qualitatively and quantitatively) of several LLMs. Model comparisons will be along two dimensions:\n",
        "\n",
        "  * Model Size\n",
        "  * Training Techniques (e.g., vanilla autoregressive vs. instruction-tuned) \n",
        "\n",
        "### Submission Instructions\n",
        "\n",
        "Complete the following sections. Download and submit this notebook (as an .ipynb file) to Canvas by 11:59PM on 1/24/23. \n"
      ],
      "metadata": {
        "id": "6TBVscLidB8J"
      }
    },
    {
      "cell_type": "markdown",
      "source": [
        "---\n",
        "### Part 0: Notebook Set-up"
      ],
      "metadata": {
        "id": "4QijbLuBPPKN"
      }
    },
    {
      "cell_type": "markdown",
      "source": [
        "##### 0. Connect to a GPU supported runtime.\n",
        "\n",
        "Connect to a hosted runtime and change the runtime type to \"GPU\".\n",
        "\n",
        "<!-- Runtime -> Change Runtime Type -> Select \"GPU\" under Hardware Accelerator -->"
      ],
      "metadata": {
        "id": "0huGDFV0jVBF"
      }
    },
    {
      "cell_type": "markdown",
      "source": [
        "##### 1. Install dependencies\n",
        "First, make sure you have the necessary dependencies installed. You will need to install the transformers and torch libraries, as well as the huggingface-datasets library. You can do this by running the following commands:"
      ],
      "metadata": {
        "id": "KQx_9TI0SoYm"
      }
    },
    {
      "cell_type": "code",
      "source": [
        "!pip install transformers torch datasets  accelerate bitsandbytes"
      ],
      "metadata": {
        "id": "dtE6lo18SvTi"
      },
      "execution_count": null,
      "outputs": []
    },
    {
      "cell_type": "markdown",
      "source": [
        "##### 2. Import necessary libraries\n",
        "\n",
        "Next, import the necessary libraries into your Jupyter notebook. You will need to import the following libraries"
      ],
      "metadata": {
        "id": "8T4sVB0jS2yE"
      }
    },
    {
      "cell_type": "code",
      "source": [
        "import transformers\n",
        "import torch\n",
        "from datasets import load_dataset\n",
        "from transformers import pipeline"
      ],
      "metadata": {
        "id": "HIV5Dw7zS9kb"
      },
      "execution_count": null,
      "outputs": []
    },
    {
      "cell_type": "markdown",
      "source": [
        "---\n",
        "### Part 1: Task, dataset, and evaluation metric selection [5 points]\n",
        "\n",
        "In the first part of the assignment, you will select a task (e.g., sentiment classification) which you will use for the remainder of this assignment. Use the dataset and tasks found in the HuggingFace datasets library (https://huggingface.co/datasets). Select a labeled dataset (e.g., IMDB sentiment classification) and identify an evaluation metric (e.g., F1-score). \n",
        " "
      ],
      "metadata": {
        "id": "LIOHmn5gdlPR"
      }
    },
    {
      "cell_type": "code",
      "execution_count": null,
      "metadata": {
        "id": "2BrnzJcncwdp"
      },
      "outputs": [],
      "source": [
        "\"\"\" Example code to load dataset \"\"\"\n",
        "sample_dataset = load_dataset(\"imdb\", split=\"test\")"
      ]
    },
    {
      "cell_type": "markdown",
      "source": [
        "**Load your dataset below**"
      ],
      "metadata": {
        "id": "WaETAV4DUvOL"
      }
    },
    {
      "cell_type": "code",
      "source": [
        "dataset = \"\"\"Enter your code here\"\"\""
      ],
      "metadata": {
        "id": "7GkDZJbZd24v"
      },
      "execution_count": null,
      "outputs": []
    },
    {
      "cell_type": "markdown",
      "source": [
        "In 2-3 lines, describe your chosen task, dataset and evaluation metric:\n",
        "\n",
        "**Answer**: "
      ],
      "metadata": {
        "id": "P-KMQZ4Ld_ne"
      }
    },
    {
      "cell_type": "markdown",
      "source": [
        "---\n",
        "### Part 2: Prompt Development [30 points]\n",
        "\n",
        "In the second part of the assignment, you will develop effective prompts for the foundation model. A prompt is a short sentence or phrase that serves as the starting point for the model's text generation (e.g., “Is the review positive or negative? \\<review written here\\>”). \n",
        "\n",
        "You will try to come up with a prompting \"template\" that allows a foundation model to correctly solve a task for 5 samples of your selected dataset.\n",
        "\n",
        "For example, for sentiment classification of clothing reviews, we could specify a template as follows: \n",
        "```python\n",
        "def template(sample_review):\n",
        "    prompt = f\"\"\"\n",
        "    Is this review positive or negative: \n",
        "    \"Perfect dress and the customer service was awesome!\"\n",
        "    Sentiment: \n",
        "    positive\n",
        "    ###\n",
        "    Is this review positive or negative: \n",
        "    \"not exact in sizing\"\n",
        "    Sentiment: \n",
        "    negative\n",
        "    ###\n",
        "    {sample_review}\n",
        "    Sentiment:\n",
        "    \"\"\"\n",
        "    return prompt\n",
        "```\n",
        "We can then apply the `template` function to 5 samples of our dataset, and feed the resulting prompt to a large language model. The hope is that the LLM processes the prompt as input, and outputs the desired `positive` or `negative` classification as natural text, via standard autoregressive language modeling.  \n",
        "\n",
        "\n",
        "**To begin**, first select 5 samples from your chosen dataset.\n",
        "\n",
        "In this section we will develop prompts for HuggingFace Bloom's 1.7B parameter model (a large language model with... 1.7 billion parameters). \n",
        "\n",
        "We'll first walk through some initial setup and two prompting strategies, before you come up with your own templates."
      ],
      "metadata": {
        "id": "pJu2aT3bVbH2"
      }
    },
    {
      "cell_type": "markdown",
      "source": [
        "#### 1. Load the model"
      ],
      "metadata": {
        "id": "iVgDchB8V11T"
      }
    },
    {
      "cell_type": "code",
      "source": [
        "from transformers import AutoTokenizer, AutoModelForCausalLM\n",
        "\n",
        "device = \"cuda:0\" if torch.cuda.is_available() else \"cpu\"\n",
        "\n",
        "model_name = \"bigscience/bloom-1b7\"\n",
        "model = AutoModelForCausalLM.from_pretrained(model_name, device_map=\"auto\", load_in_8bit=True)\n",
        "\n",
        "tokenizer = AutoTokenizer.from_pretrained(model_name)"
      ],
      "metadata": {
        "id": "9yPjb5E9V02a"
      },
      "execution_count": null,
      "outputs": []
    },
    {
      "cell_type": "markdown",
      "source": [
        "#### 2. Configure a HuggingFace pipeline to generate text\n",
        "\n",
        "Here, we will use the HuggingFace pipeline library to generate text using the model we have loaded"
      ],
      "metadata": {
        "id": "qBYLA7LzXyb2"
      }
    },
    {
      "cell_type": "code",
      "source": [
        "generator = pipeline(task=\"text-generation\", model=model, tokenizer=tokenizer)"
      ],
      "metadata": {
        "id": "dx7H_cvMX2bP"
      },
      "execution_count": null,
      "outputs": []
    },
    {
      "cell_type": "markdown",
      "source": [
        "#### 3. Generate Text \n",
        "Now we will now begin prompting the model. We will begin by walking you through a few examples of different prompt formats."
      ],
      "metadata": {
        "id": "hpsFEWRlXTSE"
      }
    },
    {
      "cell_type": "code",
      "source": [
        "# sample five entries from the sample dataset\n",
        "samples = sample_dataset.to_pandas().sample(n=5)\n",
        "sample_review = samples.iloc[0].text\n",
        "print(sample_review)"
      ],
      "metadata": {
        "id": "RQXbVmm2XnXz"
      },
      "execution_count": null,
      "outputs": []
    },
    {
      "cell_type": "markdown",
      "source": [
        "#### 3.1 Prompt Technique: Zero-shot prompting\n",
        "\n",
        "In this technique, an instruction for the task is usually specified in natural language. The model is expected to following the specification and output a correct response, **without any examples** (hence \"zero shots\")."
      ],
      "metadata": {
        "id": "-BLSVmAnj5yC"
      }
    },
    {
      "cell_type": "code",
      "source": [
        "# Write a zero-shot prompt\n",
        "prompt = f\"\"\"Classify the following movie review as positive or negative\n",
        "\n",
        "Review: {sample_review}\n",
        "Sentiment:\"\"\"\n",
        "\n",
        "print(prompt)"
      ],
      "metadata": {
        "id": "o2hN0PKMc3rE"
      },
      "execution_count": null,
      "outputs": []
    },
    {
      "cell_type": "code",
      "source": [
        "# Feed prompt to model to generate an output\n",
        "output = generator(prompt, max_new_tokens=20)\n",
        "print(output[0]['generated_text'])"
      ],
      "metadata": {
        "id": "kGnL-x9gdD1K"
      },
      "execution_count": null,
      "outputs": []
    },
    {
      "cell_type": "markdown",
      "source": [
        "#### 3.1 Prompt Technique: Few-shot prompting\n",
        "\n",
        "In this technique, we provide a **few examples** in the prompt, optionally including task instructions as well (all as natural language). Even without said instructions, our hope is that the LLM can use the examples to autoregressively complete what comes next to solve the desired task. \n"
      ],
      "metadata": {
        "id": "UZMIv-YhkSIP"
      }
    },
    {
      "cell_type": "code",
      "source": [
        "\"\"\" \n",
        "Write a few-shot prompt. Here we include a few in-context examples to the model \n",
        "demonstrating how to complete the tasks\n",
        "\"\"\"\n",
        "\n",
        "prompt = f\"\"\"Review: The movie was horrible\n",
        "Sentiment: Negative\n",
        "\n",
        "Review: The movie was the best movie I have watched all year!!!\n",
        "Sentiment: Positive\n",
        "\n",
        "Review: {sample_review}\n",
        "Sentiment:\"\"\"\n",
        "\n",
        "print(prompt)"
      ],
      "metadata": {
        "id": "k_ujrgmAdRi6"
      },
      "execution_count": null,
      "outputs": []
    },
    {
      "cell_type": "code",
      "source": [
        "# Feed prompt to model to generate an output\n",
        "output = generator(prompt, max_new_tokens=1)\n",
        "print(output[0]['generated_text'])"
      ],
      "metadata": {
        "id": "FbTBKuVGczbB"
      },
      "execution_count": null,
      "outputs": []
    },
    {
      "cell_type": "markdown",
      "source": [
        "#### **Now it's your turn!** \n",
        "\n",
        "Create and evaluate 3 different prompting templates for your task and the 5 previously selected samples. \n",
        "\n",
        "For each sample, your code should print out the LLM's output in response to the sample's corresponding prompt. \n",
        "\n",
        "You should also write a function to automatically determine if the output correctly solved the task for each sample, and report the overall evaluation metric for all five samples.\n",
        "\n",
        "Don't worry about creating templates that solve the task for all samples (e.g., 100% accuracy for classification). But your templates should be reasonable to some extent, i.e., developed with the aim to solve the task for at least 3 or 4 examples."
      ],
      "metadata": {
        "id": "JXS65UOYdv7c"
      }
    },
    {
      "cell_type": "code",
      "source": [
        "\"\"\"\n",
        "Instructions: Randomly subselect 5 examples from your dataset\n",
        "\n",
        "Enter your code below:\n",
        "\"\"\""
      ],
      "metadata": {
        "id": "5qMjnwDqdVK-"
      },
      "execution_count": null,
      "outputs": []
    },
    {
      "cell_type": "code",
      "source": [
        "\"\"\"\n",
        "Prompt #1: Enter your code below\n",
        "\n",
        "** Hint: For ease of use, wrap your prompts in functions (see sample code below) ***\n",
        "\n",
        "----- SAMPLE CODE ------\n",
        "\n",
        "def prompt_1(review):\n",
        "  prompt = f'''Review: The movie was horrible\n",
        "  Sentiment: Negative\n",
        "\n",
        "  Review: The movie was the best movie I have watched all year!!!\n",
        "  Sentiment: Positive\n",
        "\n",
        "  Review: The film was a disaster\n",
        "  Sentiment: Negative\n",
        "\n",
        "  Review: {review}\n",
        "  Sentiment:'''\n",
        "  return prompt\n",
        "\n",
        "for i, row in samples.iterrows():\n",
        "  print(f\"Sample {i}:\")\n",
        "  print(generator(prompt_1(row['text']), max_new_tokens=1)[0]['generated_text'])\n",
        "\n",
        "-------------------------\n",
        "\n",
        "\"\"\""
      ],
      "metadata": {
        "id": "1OiNu7BdVWy9"
      },
      "execution_count": null,
      "outputs": []
    },
    {
      "cell_type": "markdown",
      "source": [
        "**Performance of Prompt #1:** "
      ],
      "metadata": {
        "id": "B7OrYtXAdb6R"
      }
    },
    {
      "cell_type": "code",
      "source": [
        "\"\"\"\n",
        "Prompt #2: Enter your code below\n",
        "\"\"\""
      ],
      "metadata": {
        "id": "HwZSuAKTeMBK"
      },
      "execution_count": null,
      "outputs": []
    },
    {
      "cell_type": "markdown",
      "source": [
        "**Performance of Prompt #2:**"
      ],
      "metadata": {
        "id": "HH6QzBvDdgNl"
      }
    },
    {
      "cell_type": "code",
      "source": [
        "\"\"\"\n",
        "Prompt #3: Enter your code below\n",
        "\"\"\""
      ],
      "metadata": {
        "id": "C2f6WnzneNX_"
      },
      "execution_count": null,
      "outputs": []
    },
    {
      "cell_type": "markdown",
      "source": [
        "**Performance of Prompt #3:**"
      ],
      "metadata": {
        "id": "c2VJVfeadh8t"
      }
    },
    {
      "cell_type": "markdown",
      "source": [
        "---\n",
        "### Part 3. Model comparisons [30 points]\n",
        "In the final part of the assignment, pick one of the prompting templates you designed in Part 2, and randomly select 20 samples from your dataset chosen in Part 1. \n",
        "\n",
        "Using this template and evaluation set, we will now compare the performance of different large language models. \n",
        "\n",
        "We will focus on two dimensions of comparisons: \n",
        "* Model Size\n",
        "* Model Training Objectives"
      ],
      "metadata": {
        "id": "DTVMh8OjeZHc"
      }
    },
    {
      "cell_type": "markdown",
      "source": [
        "#### 1. Model Size Comparisons\n",
        "Here we will compare the performance of our prior Bloom 1.7b model (`bloom-1b7`), and a larger LLM, [bloom-3B](https://huggingface.co/bigscience/bloom-3b) (`bloom-3b`) with... you guessed it, *3 billion* parameters."
      ],
      "metadata": {
        "id": "3yqMztigfU4u"
      }
    },
    {
      "cell_type": "code",
      "source": [
        "\"\"\"\n",
        "Instructions: Randomly subselect 20 examples from your dataset\n",
        "\n",
        "Enter your code below:\n",
        "\"\"\""
      ],
      "metadata": {
        "id": "K-FMPitgePgV"
      },
      "execution_count": null,
      "outputs": []
    },
    {
      "cell_type": "code",
      "source": [
        "\"\"\"\n",
        "Instructions:  \n",
        "1. Using the bigscience/bloom-1b7 model we loaded in Part 2, generate task outputs for each of the 20 examples in the dataset\n",
        "2. Save all the outputs and ground-truth labels to a dataframe\n",
        "3. Compute the task performance, using the the provided ground-truth labels in the dataset, and the \n",
        "   evaluation metric you identified in Step 1.\n",
        "\n",
        "Enter your code below:\n",
        "\"\"\""
      ],
      "metadata": {
        "id": "M0lT7ukBgG6E"
      },
      "execution_count": null,
      "outputs": []
    },
    {
      "cell_type": "code",
      "source": [
        "\"\"\"\n",
        "Instructions:  \n",
        "1. Load the bigscience/bloom-3b model and generate task outputs for each of the 20 examples in the dataset\n",
        "2. Save all the outputs and ground-truth labels to a dataframe\n",
        "3. Compute the task performance, using the the provided ground-truth labels in the dataset, and the \n",
        "   evaluation metric you identified in Step 1.\n",
        "\n",
        "\n",
        "Enter your code below:\n",
        "\"\"\""
      ],
      "metadata": {
        "id": "Ip0FU5RIga51"
      },
      "execution_count": null,
      "outputs": []
    },
    {
      "cell_type": "markdown",
      "source": [
        "Instructions:  \n",
        "1. Compare the the quantitative performance of bloom-3B and bloom-1b7 parameter model.\n",
        "2. Using a few of the outputs generated by models, describe a 1-2 qualitiative differences in the outputs \n",
        "\n",
        "**Answer (Provide your answer here):**"
      ],
      "metadata": {
        "id": "ePfv5BujhuDH"
      }
    },
    {
      "cell_type": "markdown",
      "source": [
        "#### 2. Model Training Objectives\n",
        "Here we will compare the performance of bloom-3b and [bloomz-3b](https://huggingface.co/bigscience/bloomz-3b).\n",
        "\n",
        "Bloomz 3B is an *instruction-finetuned* model (a model explicitly trained to follow instructions), trained with a Bloom 3B backbone. \n",
        "\n",
        "* For more information on Bloom 3B , please see its [Model Card](https://huggingface.co/bigscience/bloomz-3b) (also linked above). \n",
        "\n",
        "* For more information on instruction fine-tuning, check out the corresponding [paper](https://arxiv.org/abs/2211.01786)."
      ],
      "metadata": {
        "id": "vR1nFCJEiAy9"
      }
    },
    {
      "cell_type": "code",
      "source": [
        "\"\"\"\n",
        "Instructions:  \n",
        "1. Load the bigsciece/bloomz-3b model and generate task outputs for each of the 20 examples in the dataset\n",
        "2. Save all the outputs and ground-truth labels to a dataframe\n",
        "3. Compute the task performance, using the the provided ground truth labels in the dataset, and the \n",
        "  evaluation metric you identified in Step 1.\n",
        "\n",
        "\n",
        "Enter your code below:\n",
        "\"\"\""
      ],
      "metadata": {
        "id": "mlOtRCYlh30X"
      },
      "execution_count": null,
      "outputs": []
    },
    {
      "cell_type": "markdown",
      "source": [
        "Instructions:  \n",
        "1. Compare the the quantitative performance of bloom-3b and bloomz-3b.\n",
        "2. Using a few of the outputs generated by models, describe 1-2 qualitiative differences in the outputs \n",
        "\n",
        "**Answer (Provide your answer here):**"
      ],
      "metadata": {
        "id": "96Fgw-VuizGR"
      }
    },
    {
      "cell_type": "markdown",
      "source": [
        "---\n",
        "#### Bonus for fun: ChatGPT\n",
        "\n",
        "As an additional comparison, try the above evaluation with [ChatGPT](https://openai.com/blog/chatgpt/), a *closed-source* model trained by OpenAI with instruction-finetuning. \n",
        "\n",
        "For now, ChatGPT provides a free way to interact with \"Open\"AI's closed models. You can access it at [https://chat.openai.com/](https://chat.openai.com/) (you may need to create an account first).\n",
        "\n",
        "How do the outputs of ChatGPT compare against the open-source BLOOM and BLOOMZ models?\n",
        "\n",
        "---\n",
        "#### Bonus for credit: ChatGPT does your homework\n",
        "As an additional bonus, can you think of a way to get ChatGPT to complete this assignment?\n",
        "\n",
        "In code or text blocks below, paste your input to ChatGPT, and the resulting output. \n",
        "\n",
        "Provide a short response describing your thoughts on using ChatGPT to complete this assignment, and any necessary changes to complete this assignment.\n",
        "\n",
        "Additional bonus for actually running ChatGPT-generated output and completing this assignment in the code blocks below.\n"
      ],
      "metadata": {
        "id": "vw73yuR7q8d6"
      }
    },
    {
      "cell_type": "code",
      "source": [
        "### Enter your input prompts for ChatGPT:\n",
        "\n"
      ],
      "metadata": {
        "id": "7iQ7O0N1sxb0"
      },
      "execution_count": null,
      "outputs": []
    },
    {
      "cell_type": "code",
      "source": [
        "### Copy and paste the resulting ChatGPT output:\n",
        "\n"
      ],
      "metadata": {
        "id": "oUbInvq9s9-K"
      },
      "execution_count": null,
      "outputs": []
    },
    {
      "cell_type": "code",
      "source": [
        "### Describe your experience with ChatGPT, and any changes you'd make \n",
        "### to successfully complete this assignment with ChatGPT's outputs, \n",
        "### in the text box below:"
      ],
      "metadata": {
        "id": "Bh7-cwsOuRC4"
      },
      "execution_count": null,
      "outputs": []
    },
    {
      "cell_type": "markdown",
      "source": [],
      "metadata": {
        "id": "eunV69anuQOU"
      }
    },
    {
      "cell_type": "code",
      "source": [
        "### Make any necessary changes to the output to successfully \n",
        "### run the code and complete this assignment in the code blocks below\n",
        "\n"
      ],
      "metadata": {
        "id": "aXrdDDQKtFzy"
      },
      "execution_count": null,
      "outputs": []
    },
    {
      "cell_type": "markdown",
      "source": [
        "### And that's it! Congrats on finishing your first assignment!\n",
        "\n",
        "Remember to submit this completed notebook to Canvas to recieve credit for this assignment"
      ],
      "metadata": {
        "id": "w2bNyNPRjA2X"
      }
    }
  ]
}